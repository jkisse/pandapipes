{
 "cells": [
  {
   "cell_type": "markdown",
   "metadata": {},
   "source": [
    "# How to get thermophysical properties from NIST online database"
   ]
  },
  {
   "cell_type": "markdown",
   "metadata": {},
   "source": [
    "NIST provides a large data set of fluid properties that are derived from various sources.\n",
    "The provided properties include \n",
    "*   Density\n",
    "*   Heat Capacity (C$_P$ and C$_V$)\n",
    "*   Viscosity\n",
    "*   Thermal conductivity\n",
    "\n",
    "and several others. For copyright reasons, the downloaded data cannot be shipped with the pandapipes package directly.\n",
    "A common, manual way to get the data is through the webhook \"Thermophysical Properties of Fluid\n",
    "Systems\": https://webbook.nist.gov/chemistry/fluid/. An automated approach to download and\n",
    "process several isothermal curves (the underlying tables) is introduced in this tutorial.\n",
    "For further information on the underlying state equations and scientific references, please refer\n",
    " to the web interface.\n"
   ]
  },
  {
   "cell_type": "markdown",
   "metadata": {},
   "source": [
    "## High level convenience function\n",
    "First, we import the main function called `create_database_from_nist`"
   ]
  },
  {
   "cell_type": "code",
   "execution_count": 3,
   "metadata": {
    "pycharm": {
     "name": "#%%\n"
    }
   },
   "outputs": [],
   "source": [
    "from pandapipes.properties.get_nist_properties_data import create_database_from_nist"
   ]
  },
  {
   "cell_type": "markdown",
   "metadata": {
    "pycharm": {
     "name": "#%% md\n"
    }
   },
   "source": [
    "Then, a fluid has to be chosen. Only \"long\" names are supported, no chemical formulas. Currently,\n",
    " hydrogen and methane are implemented."
   ]
  },
  {
   "cell_type": "code",
   "execution_count": null,
   "metadata": {
    "pycharm": {
     "name": "#%%\n"
    }
   },
   "outputs": [],
   "source": [
    "chemical = \"hydrogen\""
   ]
  },
  {
   "cell_type": "markdown",
   "metadata": {
    "pycharm": {
     "name": "#%% md\n"
    }
   },
   "source": [
    " Later in this tutorial you will see how to add other fluids.\n",
    "\n",
    "Other parameters determine the queried pressure and temperature range as\n",
    "well as the step width and units of the properties. Except for `chemical`, all parameters have\n",
    "reasonable default values and do not need to be set explicitly. For clarity, we do so anyway:"
   ]
  },
  {
   "cell_type": "code",
   "execution_count": null,
   "metadata": {
    "pycharm": {
     "name": "#%%\n"
    }
   },
   "outputs": [],
   "source": [
    "t_min_k = 263.15\n",
    "t_max_k = 333.15\n",
    "t_step_k = 10\n",
    "\n",
    "p_min = 1\n",
    "p_max = 200\n",
    "p_step = 4\n",
    "p_unit = \"bar\""
   ]
  },
  {
   "cell_type": "markdown",
   "metadata": {
    "pycharm": {
     "name": "#%% md\n"
    }
   },
   "source": [
    "If you like, you can set a specific target folder for the downloaded csv-files by specifing\n",
    "`target_folder`.\n",
    "The default target folder is pandapipes/properties/\\[chemical name\\]."
   ]
  },
  {
   "cell_type": "code",
   "execution_count": null,
   "metadata": {
    "pycharm": {
     "name": "#%%\n"
    }
   },
   "outputs": [],
   "source": [
    "target_folder = \"prop_example_folder\"  # in the tutorials folder"
   ]
  },
  {
   "cell_type": "markdown",
   "metadata": {
    "pycharm": {
     "name": "#%% md\n"
    }
   },
   "source": [
    "By default, the isothermal curves are finally summarized in a pandas-dataframe. This dataframe is\n",
    " the return value of the function. If you want to store it too (recommended), set `save_summary =\n",
    "  True`\n",
    "\n",
    "To get the data, simply run"
   ]
  },
  {
   "cell_type": "code",
   "execution_count": null,
   "metadata": {
    "pycharm": {
     "name": "#%%\n"
    }
   },
   "outputs": [],
   "source": [
    "df = create_database_from_nist(chemical, t_min_k=t_min_k, t_max_k=t_max_k, t_step_k=t_step_k,\n",
    "                              p_min=p_min, p_max=p_max, p_step=p_step, p_unit=p_unit,\n",
    "                              target_folder=target_folder, save_summary=True)"
   ]
  },
  {
   "cell_type": "markdown",
   "metadata": {},
   "source": [
    "The returned dataframe covers all available properties for the fluid for the set pressure and\n",
    "temperature range. Internally, the parameters are converted to an URL-string for each temperature\n",
    " level. These URLs are called and the answers are converted to csv-files which are stored in\n",
    " `target_folder`. The dataframe looks like this:"
   ]
  },
  {
   "cell_type": "code",
   "execution_count": null,
   "metadata": {
    "pycharm": {
     "name": "#%%\n"
    }
   },
   "outputs": [],
   "source": [
    "df"
   ]
  },
  {
   "cell_type": "markdown",
   "metadata": {},
   "source": [
    "## Column names\n",
    "Please note that by default the column names of the resulting dataframe differ from the usual\n",
    "pandapipes notation. You might have to do some renaming, e.g. like this:"
   ]
  },
  {
   "cell_type": "code",
   "execution_count": null,
   "metadata": {
    "pycharm": {
     "name": "#%%\n"
    }
   },
   "outputs": [],
   "source": [
    "pandapipes_names = {'Density (kg/m3)': 'density',\n",
    "                    'Cp (J/mol*K)': 'heat_capacity',\n",
    "                    'Viscosity (uPa*s)': 'viscosity'}\n",
    "df.rename(pandapipes_names, axis='columns', inplace=True)"
   ]
  },
  {
   "cell_type": "markdown",
   "metadata": {},
   "source": [
    "You can use this dataframe to create a two dimensional (pressure and temperature) fluid property.\n",
    "Or you can simply create the standard text files that are originally used for\n",
    "properties in pandapipes with the following function. The function\n",
    "`create_textfiles_from_nist_summary` looks for nist_summary.csv in `folder` and\n",
    " extracts density, viscosity and heat capacity at a given pressure for all available temperatures.\n",
    " Usually, the properties in the text files are at 1 bar. Please note that the values for\n",
    "  compressibility (which are required for uni-dimensional pipeflow calculation) are currently not\n",
    "   automatically calculated. In this case, the compressibility values have to be added manually.\n"
   ]
  },
  {
   "cell_type": "code",
   "execution_count": null,
   "metadata": {
    "pycharm": {
     "name": "#%%\n"
    }
   },
   "outputs": [],
   "source": [
    "from pandapipes.properties.get_nist_properties_data import create_textfiles_from_nist_summary\n",
    "create_textfiles_from_nist_summary(folder=target_folder, at_pressure_bar=1)"
   ]
  },
  {
   "cell_type": "markdown",
   "metadata": {
    "pycharm": {
     "name": "#%% md\n"
    }
   },
   "source": [
    "## Add a new chemical\n",
    "If you want to download data that is not yet implemented but available in the fluid\n",
    "drop down selection on https://webbook.nist.gov/chemistry/fluid/ , you can add extend the code.\n",
    "\n",
    "First, look up the CAS-registry number (a unique number code) for the chemical, e.g. on wikipedia\n",
    " or here https://webbook.nist.gov/chemistry/name-ser/ . Then, add this number without dashes to the\n",
    " dictionary `cas_number_dict` in `download_as_csv_from_nist` that maps names and CAS-numbers.\n",
    " Finally, you can run `create_database_from_nist` as written before with the new `chemical` name.\n",
    "  There is no query for molar_mass yet. However, https://webbook.nist.gov/chemistry/name-ser/\n",
    "  gives you the molecular weight, too, so molar_mass.txt can be added manually."
   ]
  },
  {
   "cell_type": "markdown",
   "metadata": {
    "pycharm": {
     "name": "#%% md\n"
    }
   },
   "source": [
    "## Create a summarizing dataframe from existing csv-files\n",
    "If you want to summarize csv files that have already been downloaded to `folder`, e.g. from\n",
    "earlier queries, you can use the following function:"
   ]
  },
  {
   "cell_type": "code",
   "execution_count": null,
   "metadata": {
    "pycharm": {
     "name": "#%%\n"
    }
   },
   "outputs": [],
   "source": [
    "from pandapipes.properties.get_nist_properties_data import merge_nist_csvs_in_folder\n",
    "folder = \"prop_example_folder\"\n",
    "df = merge_nist_csvs_in_folder(folder)"
   ]
  }
 ],
 "metadata": {
  "kernelspec": {
   "display_name": "Python 3",
   "language": "python",
   "name": "python3"
  },
  "language_info": {
   "codemirror_mode": {
    "name": "ipython",
    "version": 3
   },
   "file_extension": ".py",
   "mimetype": "text/x-python",
   "name": "python",
   "nbconvert_exporter": "python",
   "pygments_lexer": "ipython3",
   "version": "3.7.3"
  }
 },
 "nbformat": 4,
 "nbformat_minor": 2
}